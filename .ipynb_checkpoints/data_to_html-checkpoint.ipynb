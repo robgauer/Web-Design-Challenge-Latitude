{
 "cells": [
  {
   "cell_type": "code",
   "execution_count": 1,
   "metadata": {},
   "outputs": [],
   "source": [
    "# Dependencies and Setup \n",
    "import pandas as pd\n",
    "import os\n",
    "import sys\n",
    "\n",
    "# define current date string to append to the names of output files...\n",
    "import datetime  \n",
    "def _getToday(): return datetime.date.today().strftime(\"%Y%m%d\")   "
   ]
  },
  {
   "cell_type": "code",
   "execution_count": 2,
   "metadata": {},
   "outputs": [
    {
     "data": {
      "text/plain": [
       "'.\\\\resources\\\\cities.csv'"
      ]
     },
     "execution_count": 2,
     "metadata": {},
     "output_type": "execute_result"
    }
   ],
   "source": [
    "# Define path to csv file \n",
    "cities_file=os.path.join('.','resources','cities.csv') \n",
    "cities_file"
   ]
  },
  {
   "cell_type": "code",
   "execution_count": 3,
   "metadata": {},
   "outputs": [
    {
     "data": {
      "text/html": [
       "<div>\n",
       "<style scoped>\n",
       "    .dataframe tbody tr th:only-of-type {\n",
       "        vertical-align: middle;\n",
       "    }\n",
       "\n",
       "    .dataframe tbody tr th {\n",
       "        vertical-align: top;\n",
       "    }\n",
       "\n",
       "    .dataframe thead th {\n",
       "        text-align: right;\n",
       "    }\n",
       "</style>\n",
       "<table border=\"1\" class=\"dataframe\">\n",
       "  <thead>\n",
       "    <tr style=\"text-align: right;\">\n",
       "      <th></th>\n",
       "      <th>City_ID</th>\n",
       "      <th>Weather City</th>\n",
       "      <th>Country</th>\n",
       "      <th>Latitude</th>\n",
       "      <th>Longitude</th>\n",
       "      <th>Date</th>\n",
       "      <th>Cloudiness</th>\n",
       "      <th>Humidity</th>\n",
       "      <th>Max Temperature</th>\n",
       "      <th>Wind Speed</th>\n",
       "    </tr>\n",
       "  </thead>\n",
       "  <tbody>\n",
       "    <tr>\n",
       "      <th>0</th>\n",
       "      <td>0</td>\n",
       "      <td>douentza</td>\n",
       "      <td>ML</td>\n",
       "      <td>15.00</td>\n",
       "      <td>-2.95</td>\n",
       "      <td>1587251998</td>\n",
       "      <td>91</td>\n",
       "      <td>21</td>\n",
       "      <td>84.24</td>\n",
       "      <td>2.21</td>\n",
       "    </tr>\n",
       "    <tr>\n",
       "      <th>1</th>\n",
       "      <td>1</td>\n",
       "      <td>boca do acre</td>\n",
       "      <td>IT</td>\n",
       "      <td>45.68</td>\n",
       "      <td>8.41</td>\n",
       "      <td>1587251998</td>\n",
       "      <td>61</td>\n",
       "      <td>76</td>\n",
       "      <td>57.00</td>\n",
       "      <td>0.25</td>\n",
       "    </tr>\n",
       "    <tr>\n",
       "      <th>2</th>\n",
       "      <td>2</td>\n",
       "      <td>flinders</td>\n",
       "      <td>AU</td>\n",
       "      <td>-34.58</td>\n",
       "      <td>150.86</td>\n",
       "      <td>1587251998</td>\n",
       "      <td>49</td>\n",
       "      <td>65</td>\n",
       "      <td>64.00</td>\n",
       "      <td>7.00</td>\n",
       "    </tr>\n",
       "    <tr>\n",
       "      <th>3</th>\n",
       "      <td>3</td>\n",
       "      <td>akureyri</td>\n",
       "      <td>IS</td>\n",
       "      <td>65.68</td>\n",
       "      <td>-18.09</td>\n",
       "      <td>1587251998</td>\n",
       "      <td>75</td>\n",
       "      <td>70</td>\n",
       "      <td>46.40</td>\n",
       "      <td>34.45</td>\n",
       "    </tr>\n",
       "    <tr>\n",
       "      <th>4</th>\n",
       "      <td>4</td>\n",
       "      <td>yarada</td>\n",
       "      <td>IN</td>\n",
       "      <td>17.65</td>\n",
       "      <td>83.27</td>\n",
       "      <td>1587251998</td>\n",
       "      <td>0</td>\n",
       "      <td>80</td>\n",
       "      <td>80.85</td>\n",
       "      <td>11.34</td>\n",
       "    </tr>\n",
       "  </tbody>\n",
       "</table>\n",
       "</div>"
      ],
      "text/plain": [
       "   City_ID  Weather City Country  Latitude  Longitude        Date  Cloudiness  \\\n",
       "0        0      douentza      ML     15.00      -2.95  1587251998          91   \n",
       "1        1  boca do acre      IT     45.68       8.41  1587251998          61   \n",
       "2        2      flinders      AU    -34.58     150.86  1587251998          49   \n",
       "3        3      akureyri      IS     65.68     -18.09  1587251998          75   \n",
       "4        4        yarada      IN     17.65      83.27  1587251998           0   \n",
       "\n",
       "   Humidity  Max Temperature  Wind Speed  \n",
       "0        21            84.24        2.21  \n",
       "1        76            57.00        0.25  \n",
       "2        65            64.00        7.00  \n",
       "3        70            46.40       34.45  \n",
       "4        80            80.85       11.34  "
      ]
     },
     "execution_count": 3,
     "metadata": {},
     "output_type": "execute_result"
    }
   ],
   "source": [
    "# Read in csv file and convert to dataframe \n",
    "# Read file and define it as 'file_cities'\n",
    "file_cities=pd.read_csv(cities_file) \n",
    "\n",
    "# Create dataframe\n",
    "cities_df=pd.DataFrame(file_cities)\n",
    "\n",
    "# Columns to display in dataframe.\n",
    "cities_df=cities_df[[\"City_ID\",\"Weather City\", \"Country\", \"Latitude\", \"Longitude\", \"Date\", \"Cloudiness\", \"Humidity\", \"Max Temperature\", \"Wind Speed\"]] \n",
    "\n",
    "# Display dataframe output\n",
    "cities_df.head()"
   ]
  },
  {
   "cell_type": "code",
   "execution_count": 4,
   "metadata": {},
   "outputs": [],
   "source": [
    "# output data fram to html format copy to data backup versions folder\n",
    "cities_df.to_html('./versions/data_source_cities_html_backup/cities.html', index=False)"
   ]
  },
  {
   "cell_type": "code",
   "execution_count": 5,
   "metadata": {},
   "outputs": [],
   "source": [
    "# output data fram to html format copy to resources folder for backup versioning\n",
    "cities_df.to_html('./resources/cities.html', index=False)"
   ]
  },
  {
   "cell_type": "code",
   "execution_count": 6,
   "metadata": {},
   "outputs": [],
   "source": [
    "# output data fram to html format - production use data\n",
    "cities_df.to_html('./cities.html', index=False)"
   ]
  },
  {
   "cell_type": "code",
   "execution_count": 7,
   "metadata": {},
   "outputs": [],
   "source": [
    "## EOF ##"
   ]
  }
 ],
 "metadata": {
  "kernelspec": {
   "display_name": "Python 3",
   "language": "python",
   "name": "python3"
  },
  "language_info": {
   "codemirror_mode": {
    "name": "ipython",
    "version": 3
   },
   "file_extension": ".py",
   "mimetype": "text/x-python",
   "name": "python",
   "nbconvert_exporter": "python",
   "pygments_lexer": "ipython3",
   "version": "3.6.10"
  }
 },
 "nbformat": 4,
 "nbformat_minor": 4
}
